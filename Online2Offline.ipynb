{
 "cells": [
  {
   "cell_type": "code",
   "execution_count": 95,
   "metadata": {},
   "outputs": [],
   "source": [
    "import cv2\n",
    "import numpy as np\n",
    "import os\n",
    "import glob\n",
    "from PIL import Image\n",
    "#import matplotlib.pyplot as plt\n",
    "import IPython\n",
    "from IPython.display import display"
   ]
  },
  {
   "cell_type": "code",
   "execution_count": 101,
   "metadata": {},
   "outputs": [],
   "source": [
    "def show(img):\n",
    "    \n",
    "    _,ret = cv2.imencode('.jpg', img) \n",
    "    i = IPython.display.Image(data=ret\n",
    "    IPython.display.display(i)\n",
    "    \n",
    "\n",
    "def morph(img,filename):\n",
    "    \n",
    "    # KERNEL FOR EROSION\n",
    "    kernel = np.ones((10,10), np.uint8) \n",
    "    \n",
    "    \n",
    "    img_erosion = cv2.erode(img, kernel, iterations=4) \n",
    "    #img_erosion = cv2.dilate(img_erosion, kernel, iterations=1) \n",
    "    \n",
    "    img_erosion_gaussian = cv2.GaussianBlur(img_erosion,(5,5),0)\n",
    "    \n",
    "    #img_erosion_g = cv2.fastNlMeansDenoisingColored(img_erosion_g,None,10,10,7,21)\n",
    "    #img_erosion_g = cv2.filter2D(img_erosion,-1,kernel_g)\n",
    "    \n",
    "    \n",
    "    #OFFLINE IMAGE FROM DATABASE\n",
    "    print('OFFLINE IMAGE FROM DATABASE')\n",
    "    Ground_Truth = Image.open(str(filename) + '.tiff')\n",
    "    display(Ground_Truth)\n",
    "    \n",
    "                              \n",
    "        \n",
    "    \n",
    "\n",
    "    #OFFLINE IMAGE GENERATED\n",
    "    print('OFFLINE IMAGE GENERATED')\n",
    "    #im2 = Image.open(img_erosion_gaussian)\n",
    "    show(img_erosion_gaussian)\n",
    "    \n",
    "    #cv2.namedWindow('Output', cv2.WINDOW_NORMAL) \n",
    "    #cv2.imshow('Output', img_erosion_gaussian)\n",
    "    #cv2.waitKey(0)  \n",
    "    #cv2.destroyAllWindows() "
   ]
  },
  {
   "cell_type": "code",
   "execution_count": 102,
   "metadata": {},
   "outputs": [],
   "source": [
    "def extract(files):\n",
    "    X = []\n",
    "    Y = []\n",
    "\n",
    "    filename = files.split('.')[0]\n",
    "    with open(files, \"r\") as f:\n",
    "        \n",
    "        lines = f.readlines()\n",
    "        #lines = lines.strip('\\n')\n",
    "    \n",
    "        for l in lines[10:-1]:\n",
    "            \n",
    "            if l[0] != '.':\n",
    "            #if l[0] != '.' and l[0] != '-':\n",
    "                \n",
    "                \n",
    "                #------UNCOMMENT FOR TAMIL SCRIPT-------------\n",
    "                y_coord = int(l.split(' ')[0])\n",
    "                x_coord = int(l.split(' ')[1])\n",
    "                #------------------------------------\n",
    "                \n",
    "                #------UNCOMMENT FOR DEVANAGRI SCRIPT---------\n",
    "                #x_coord = l.split(',')[1]\n",
    "                #x_coord = int(X.split('.')[0])\n",
    "                #y_coord = l.split(',')[0]\n",
    "                #y_coord = int(Y.split('.')[0])\n",
    "                #------------------------------------\n",
    "                \n",
    "                X.append(x_coord)\n",
    "                Y.append(y_coord)\n",
    "    \n",
    "    height_x = max(X) - min(X)    # HEIGHT OF X\n",
    "    height_y = max(Y) - min(Y)    # HEIGHT OF Y\n",
    "    MIN_X = min(X)\n",
    "    MIN_Y = min(Y)\n",
    "    \n",
    "    # SUBTRACTING MIN OF X AND Y CO-ORDINATES\n",
    "    for i in range(len(X)):\n",
    "        X[i] = X[i] - MIN_X\n",
    "        Y[i] = Y[i] - MIN_Y\n",
    "        \n",
    "    #print(max(x),max(y),min(x),min(y))\n",
    "    \n",
    "    # MATRIX FOR STORING IMAGE - INITIALLY EMPTY\n",
    "    IMAGE = np.full((height_x + 100,height_y + 100),255, np.uint8)\n",
    "    \n",
    "    for i in range(len(X)):\n",
    "        IMAGE[X[i]+50 , Y[i]+50] = 0   # INCLUDING THE CO-ORDINATE\n",
    "        \n",
    "        #-----TRIED DIDN'T WORK!-----------------\n",
    "        #slopey = Y[i+1] - Y[i]\n",
    "        #slopex = X[i+1] - X[i]\n",
    "        #alpha = 0.2\n",
    "        #while X[i]+ (slopex*alpha) < X[i+1] and Y[i]+ (slopey*alpha) < Y[i+1]:\n",
    "            #IMAGE[X[i]+ int(slopex*alpha) + 50, Y[i]+ int(slopey*alpha) + 50] = 0\n",
    "        #----------------------------------------    \n",
    "        \n",
    "        # INCLUDING MID-POINT IN BETWEEN TWO CO-ORDINATES    \n",
    "        if (i + 1) < len(X):\n",
    "            a1 = int((X[i] + X[i+1])/2) + 50\n",
    "            b1 = int((Y[i] + Y[i+1])/2) + 50\n",
    "        IMAGE[a1,b1] = 0\n",
    "    \n",
    "    morph(IMAGE,filename)"
   ]
  },
  {
   "cell_type": "code",
   "execution_count": 103,
   "metadata": {},
   "outputs": [
    {
     "name": "stdout",
     "output_type": "stream",
     "text": [
      "OFFLINE IMAGE FROM DATABASE\n"
     ]
    },
    {
     "data": {
      "image/png": "[encoded data removed]",
      "text/plain": [
       "<PIL.TiffImagePlugin.TiffImageFile image mode=1 size=116x108 at 0x2713F71C1C8>"
      ]
     },
     "metadata": {},
     "output_type": "display_data"
    },
    {
     "name": "stdout",
     "output_type": "stream",
     "text": [
      "OFFLINE IMAGE GENERATED\n"
     ]
    },
    {
     "ename": "AttributeError",
     "evalue": "'Image' object has no attribute 'reshape'",
     "output_type": "error",
     "traceback": [
      "\u001b[1;31m---------------------------------------------------------------------------\u001b[0m",
      "\u001b[1;31mAttributeError\u001b[0m                            Traceback (most recent call last)",
      "\u001b[1;32m<ipython-input-103-b311d4199531>\u001b[0m in \u001b[0;36m<module>\u001b[1;34m\u001b[0m\n\u001b[0;32m      6\u001b[0m \u001b[1;33m\u001b[0m\u001b[0m\n\u001b[0;32m      7\u001b[0m \u001b[1;32mif\u001b[0m \u001b[0m__name__\u001b[0m \u001b[1;33m==\u001b[0m \u001b[1;34m\"__main__\"\u001b[0m\u001b[1;33m:\u001b[0m\u001b[1;33m\u001b[0m\u001b[1;33m\u001b[0m\u001b[0m\n\u001b[1;32m----> 8\u001b[1;33m     \u001b[0mmain\u001b[0m\u001b[1;33m(\u001b[0m\u001b[1;33m)\u001b[0m\u001b[1;33m\u001b[0m\u001b[1;33m\u001b[0m\u001b[0m\n\u001b[0m",
      "\u001b[1;32m<ipython-input-103-b311d4199531>\u001b[0m in \u001b[0;36mmain\u001b[1;34m()\u001b[0m\n\u001b[0;32m      3\u001b[0m     \u001b[1;31m#for files in glob.glob(\"Hindi/*\"):\u001b[0m\u001b[1;33m\u001b[0m\u001b[1;33m\u001b[0m\u001b[1;33m\u001b[0m\u001b[0m\n\u001b[0;32m      4\u001b[0m     \u001b[1;32mfor\u001b[0m \u001b[0mfiles\u001b[0m \u001b[1;32min\u001b[0m \u001b[0mglob\u001b[0m\u001b[1;33m.\u001b[0m\u001b[0mglob\u001b[0m\u001b[1;33m(\u001b[0m\u001b[1;34m\"Tamil/*txt\"\u001b[0m\u001b[1;33m)\u001b[0m\u001b[1;33m:\u001b[0m\u001b[1;33m\u001b[0m\u001b[1;33m\u001b[0m\u001b[0m\n\u001b[1;32m----> 5\u001b[1;33m         \u001b[0mextract\u001b[0m\u001b[1;33m(\u001b[0m\u001b[0mfiles\u001b[0m\u001b[1;33m)\u001b[0m\u001b[1;33m\u001b[0m\u001b[1;33m\u001b[0m\u001b[0m\n\u001b[0m\u001b[0;32m      6\u001b[0m \u001b[1;33m\u001b[0m\u001b[0m\n\u001b[0;32m      7\u001b[0m \u001b[1;32mif\u001b[0m \u001b[0m__name__\u001b[0m \u001b[1;33m==\u001b[0m \u001b[1;34m\"__main__\"\u001b[0m\u001b[1;33m:\u001b[0m\u001b[1;33m\u001b[0m\u001b[1;33m\u001b[0m\u001b[0m\n",
      "\u001b[1;32m<ipython-input-102-c5a6bdea999e>\u001b[0m in \u001b[0;36mextract\u001b[1;34m(files)\u001b[0m\n\u001b[0;32m     62\u001b[0m         \u001b[0mIMAGE\u001b[0m\u001b[1;33m[\u001b[0m\u001b[0ma1\u001b[0m\u001b[1;33m,\u001b[0m\u001b[0mb1\u001b[0m\u001b[1;33m]\u001b[0m \u001b[1;33m=\u001b[0m \u001b[1;36m0\u001b[0m\u001b[1;33m\u001b[0m\u001b[1;33m\u001b[0m\u001b[0m\n\u001b[0;32m     63\u001b[0m \u001b[1;33m\u001b[0m\u001b[0m\n\u001b[1;32m---> 64\u001b[1;33m     \u001b[0mmorph\u001b[0m\u001b[1;33m(\u001b[0m\u001b[0mIMAGE\u001b[0m\u001b[1;33m,\u001b[0m\u001b[0mfilename\u001b[0m\u001b[1;33m)\u001b[0m\u001b[1;33m\u001b[0m\u001b[1;33m\u001b[0m\u001b[0m\n\u001b[0m",
      "\u001b[1;32m<ipython-input-101-3de034b4261e>\u001b[0m in \u001b[0;36mmorph\u001b[1;34m(img, filename)\u001b[0m\n\u001b[0;32m     29\u001b[0m     \u001b[0mprint\u001b[0m\u001b[1;33m(\u001b[0m\u001b[1;34m'OFFLINE IMAGE GENERATED'\u001b[0m\u001b[1;33m)\u001b[0m\u001b[1;33m\u001b[0m\u001b[1;33m\u001b[0m\u001b[0m\n\u001b[0;32m     30\u001b[0m     \u001b[1;31m#im2 = Image.open(img_erosion_gaussian)\u001b[0m\u001b[1;33m\u001b[0m\u001b[1;33m\u001b[0m\u001b[1;33m\u001b[0m\u001b[0m\n\u001b[1;32m---> 31\u001b[1;33m     \u001b[0mshow\u001b[0m\u001b[1;33m(\u001b[0m\u001b[0mimg_erosion_gaussian\u001b[0m\u001b[1;33m)\u001b[0m\u001b[1;33m\u001b[0m\u001b[1;33m\u001b[0m\u001b[0m\n\u001b[0m\u001b[0;32m     32\u001b[0m \u001b[1;33m\u001b[0m\u001b[0m\n\u001b[0;32m     33\u001b[0m     \u001b[1;31m#cv2.namedWindow('Output', cv2.WINDOW_NORMAL)\u001b[0m\u001b[1;33m\u001b[0m\u001b[1;33m\u001b[0m\u001b[1;33m\u001b[0m\u001b[0m\n",
      "\u001b[1;32m<ipython-input-101-3de034b4261e>\u001b[0m in \u001b[0;36mshow\u001b[1;34m(img)\u001b[0m\n\u001b[0;32m      2\u001b[0m \u001b[1;33m\u001b[0m\u001b[0m\n\u001b[0;32m      3\u001b[0m     \u001b[0m_\u001b[0m\u001b[1;33m,\u001b[0m\u001b[0mret\u001b[0m \u001b[1;33m=\u001b[0m \u001b[0mcv2\u001b[0m\u001b[1;33m.\u001b[0m\u001b[0mimencode\u001b[0m\u001b[1;33m(\u001b[0m\u001b[1;34m'.jpg'\u001b[0m\u001b[1;33m,\u001b[0m \u001b[0mimg\u001b[0m\u001b[1;33m)\u001b[0m\u001b[1;33m\u001b[0m\u001b[1;33m\u001b[0m\u001b[0m\n\u001b[1;32m----> 4\u001b[1;33m     \u001b[0mi\u001b[0m \u001b[1;33m=\u001b[0m \u001b[0mIPython\u001b[0m\u001b[1;33m.\u001b[0m\u001b[0mdisplay\u001b[0m\u001b[1;33m.\u001b[0m\u001b[0mImage\u001b[0m\u001b[1;33m(\u001b[0m\u001b[0mdata\u001b[0m\u001b[1;33m=\u001b[0m\u001b[0mret\u001b[0m\u001b[1;33m)\u001b[0m\u001b[1;33m.\u001b[0m\u001b[0mreshape\u001b[0m\u001b[1;33m(\u001b[0m\u001b[1;36m3\u001b[0m\u001b[1;33m,\u001b[0m\u001b[1;36m4\u001b[0m\u001b[1;33m)\u001b[0m\u001b[1;33m\u001b[0m\u001b[1;33m\u001b[0m\u001b[0m\n\u001b[0m\u001b[0;32m      5\u001b[0m     \u001b[0mIPython\u001b[0m\u001b[1;33m.\u001b[0m\u001b[0mdisplay\u001b[0m\u001b[1;33m.\u001b[0m\u001b[0mdisplay\u001b[0m\u001b[1;33m(\u001b[0m\u001b[0mi\u001b[0m\u001b[1;33m)\u001b[0m\u001b[1;33m\u001b[0m\u001b[1;33m\u001b[0m\u001b[0m\n\u001b[0;32m      6\u001b[0m \u001b[1;33m\u001b[0m\u001b[0m\n",
      "\u001b[1;31mAttributeError\u001b[0m: 'Image' object has no attribute 'reshape'"
     ]
    }
   ],
   "source": [
    "def main():\n",
    "    \n",
    "    #for files in glob.glob(\"Hindi/*\"):\n",
    "    for files in glob.glob(\"Tamil/*txt\"):\n",
    "        extract(files)\n",
    "\n",
    "if __name__ == \"__main__\": \n",
    "    main()"
   ]
  },
  {
   "cell_type": "code",
   "execution_count": null,
   "metadata": {},
   "outputs": [],
   "source": []
  },
  {
   "cell_type": "code",
   "execution_count": 40,
   "metadata": {},
   "outputs": [],
   "source": [
    "X = x\n",
    "y = y"
   ]
  },
  {
   "cell_type": "code",
   "execution_count": 19,
   "metadata": {},
   "outputs": [
    {
     "ename": "AttributeError",
     "evalue": "'list' object has no attribute 'min'",
     "output_type": "error",
     "traceback": [
      "\u001b[1;31m---------------------------------------------------------------------------\u001b[0m",
      "\u001b[1;31mAttributeError\u001b[0m                            Traceback (most recent call last)",
      "\u001b[1;32m<ipython-input-19-3eb9de3d0755>\u001b[0m in \u001b[0;36m<module>\u001b[1;34m\u001b[0m\n\u001b[0;32m     21\u001b[0m \u001b[1;33m\u001b[0m\u001b[0m\n\u001b[0;32m     22\u001b[0m \u001b[1;33m\u001b[0m\u001b[0m\n\u001b[1;32m---> 23\u001b[1;33m \u001b[0mx_new\u001b[0m \u001b[1;33m=\u001b[0m \u001b[0mnp\u001b[0m\u001b[1;33m.\u001b[0m\u001b[0mlinspace\u001b[0m\u001b[1;33m(\u001b[0m\u001b[0mAx\u001b[0m\u001b[1;33m.\u001b[0m\u001b[0mmin\u001b[0m\u001b[1;33m(\u001b[0m\u001b[1;33m)\u001b[0m\u001b[1;33m,\u001b[0m \u001b[0mAx\u001b[0m\u001b[1;33m.\u001b[0m\u001b[0mmax\u001b[0m\u001b[1;33m(\u001b[0m\u001b[1;33m)\u001b[0m\u001b[1;33m,\u001b[0m\u001b[1;36m500\u001b[0m\u001b[1;33m)\u001b[0m\u001b[1;33m\u001b[0m\u001b[1;33m\u001b[0m\u001b[0m\n\u001b[0m\u001b[0;32m     24\u001b[0m \u001b[1;33m\u001b[0m\u001b[0m\n\u001b[0;32m     25\u001b[0m \u001b[0mf\u001b[0m \u001b[1;33m=\u001b[0m \u001b[0minterp1d\u001b[0m\u001b[1;33m(\u001b[0m\u001b[0mAx\u001b[0m\u001b[1;33m,\u001b[0m \u001b[0mAy\u001b[0m\u001b[1;33m,\u001b[0m \u001b[0mkind\u001b[0m\u001b[1;33m=\u001b[0m\u001b[1;34m'quadratic'\u001b[0m\u001b[1;33m)\u001b[0m\u001b[1;33m\u001b[0m\u001b[1;33m\u001b[0m\u001b[0m\n",
      "\u001b[1;31mAttributeError\u001b[0m: 'list' object has no attribute 'min'"
     ]
    }
   ],
   "source": [
    "from scipy.interpolate import interp1d\n",
    "\n",
    "#Ax=np.array([x])\n",
    "#Ay=np.array([y])\n",
    "#Ax = np.asarray(Ax).squeeze()\n",
    "#Ay = np.asarray(Ay).squeeze()\n",
    "\n",
    "\n",
    "# Combine lists into list of tuples\n",
    "points = zip(x, y)\n",
    "# Sort list of tuples by x-value\n",
    "points = sorted(points, key=lambda point: point[0])\n",
    "Ax, Ay = zip(*points)\n",
    "\n",
    "Ax = list(Ax)\n",
    "Ay = list(Ay)\n",
    "#Ax=np.array([Ax])\n",
    "#Ay=np.array([Ay])\n",
    "#Ax = np.asarray(Ax).squeeze()\n",
    "#Ay = np.asarray(Ay).squeeze()\n",
    "\n",
    "\n",
    "x_new = np.linspace(Ax.min(), Ax.max(),500)\n",
    "\n",
    "f = interp1d(Ax, Ay, kind='quadratic')\n",
    "y_smooth=f(x_new)\n",
    "\n",
    "plt.plot (x_new,y_smooth)\n",
    "plt.scatter (Ax, Ay)"
   ]
  },
  {
   "cell_type": "code",
   "execution_count": null,
   "metadata": {},
   "outputs": [],
   "source": [
    "# Combine lists into list of tuples\n",
    "points = zip(Ax, Ay)\n",
    "\n",
    "# Sort list of tuples by x-value\n",
    "points = sorted(points, key=lambda point: point[0])\n",
    "\n",
    "Ax, Ay = zip(*points)\n"
   ]
  },
  {
   "cell_type": "code",
   "execution_count": 39,
   "metadata": {},
   "outputs": [
    {
     "data": {
      "image/png": "[encoded data removed]",
      "text/plain": [
       "<Figure size 640x480 with 1 Axes>"
      ]
     },
     "metadata": {},
     "output_type": "display_data"
    },
    {
     "data": {
      "text/plain": [
       "<Figure size 432x288 with 0 Axes>"
      ]
     },
     "metadata": {},
     "output_type": "display_data"
    }
   ],
   "source": [
    "import matplotlib.pyplot as plt\n",
    "from matplotlib.pyplot import figure\n",
    "\n",
    "figure(num=None, figsize=(8,6),dpi=80,facecolor = 'w')\n",
    "f = open(\"000t01.txt\",'r')\n",
    "lines = f.readlines()\n",
    "\n",
    "x=[]\n",
    "y=[]\n",
    "f=0\n",
    "\n",
    "def draw(x,y):\n",
    "    plt.plot(x,y)\n",
    "    plt.axis('off')\n",
    "    plt.show()\n",
    "    #plt.draw()\n",
    "    plt.savefig('testy.png', dpi=100)\n",
    "    #fig = plt.figure()\n",
    "    #plt.save()\n",
    "    #plt.show()\n",
    "for line in lines:\n",
    "    l = line.split()\n",
    "    if(len(l)>0):\n",
    "        if(l[0]=='.PEN_DOWN'):\n",
    "            f=1\n",
    "            continue\n",
    "        elif(l[0]=='.PEN_UP'):\n",
    "            f=0\n",
    "            draw(x,y)\n",
    "            continue\n",
    "    if(f==1):\n",
    "        x.append(int(l[0]))\n",
    "        y.append(int(l[1]))"
   ]
  },
  {
   "cell_type": "code",
   "execution_count": null,
   "metadata": {},
   "outputs": [],
   "source": [
    "\n",
    "\n",
    "with open(\"003t02.txt\", \"r\") as f:\n",
    "    lines = f.readlines()\n",
    "    \n",
    "    # Loop through all lines, ignoring header.\n",
    "    # Add last element to list (i.e. the process name)\n",
    "    #print(lines)\n",
    "    for l in lines[9:-1]:\n",
    "        #x.append(l.split(\" \")[0])\n",
    "        #y.append(l.split(\" \")[1])\n",
    "        #t.append(l.split(\" \")[2])\n",
    "        #print(l.split(' ')[0])\n",
    "        if l[0] != '.':\n",
    "            x.append(int(l.split(' ')[1]))\n",
    "            y.append(int(l.split(' ')[0]))\n",
    "#x = [int(numeric_string) for numeric_string in x]\n",
    "#x = [int(numeric_string) for numeric_string in x]"
   ]
  },
  {
   "cell_type": "code",
   "execution_count": null,
   "metadata": {},
   "outputs": [],
   "source": [
    "print(len(x))\n",
    "print(len(y))\n",
    "print(max(x))\n",
    "print(max(y))"
   ]
  },
  {
   "cell_type": "code",
   "execution_count": null,
   "metadata": {},
   "outputs": [],
   "source": [
    "x1 = max(x)\n",
    "y1 = max(y)\n",
    "x0 = min(x)\n",
    "y0 = min(y)\n",
    "hx = x1 - x0\n",
    "hy = y1 - y0\n",
    "#arr = np.full((len(x),2),255, np.uint8)\n",
    "#arr[1,1]\n",
    "for i in range(len(x)):\n",
    "    x[i] = x[i] - x0\n",
    "    y[i] = y[i] - y0\n",
    "    #x[i] = x[i] \n",
    "    #y[i] = y[i] \n",
    "    #arr[i,0] = x[i] + 5\n",
    "    #arr[i,1] = y[i] + 5\n",
    "print(x0)"
   ]
  },
  {
   "cell_type": "code",
   "execution_count": null,
   "metadata": {},
   "outputs": [],
   "source": [
    "mat = np.full((hx + 10,hy + 10),255, np.uint8)\n",
    "\n",
    "#mat = np.full((x1+2,y1+2),255, np.uint8)\n",
    "\n",
    "print(hx,hy)"
   ]
  },
  {
   "cell_type": "code",
   "execution_count": null,
   "metadata": {},
   "outputs": [],
   "source": [
    "#print(mat)"
   ]
  },
  {
   "cell_type": "code",
   "execution_count": null,
   "metadata": {},
   "outputs": [],
   "source": [
    "x = []\n",
    "y = []\n",
    "t = []\n",
    "count = 0\n",
    "for i in range(len(x)):\n",
    "    #print(x[i],y[i])\n",
    "    #mat[x[i]+5,y[i]+5] = 0\n",
    "    mat[x[i],y[i]] = 0\n",
    "    #if (i + 1) < len(x):\n",
    "        #a = int((x[i] + x[i+1])/2) + 5\n",
    "        #b = int((y[i]+y[i+1])/2) + 5\n",
    "        #mat[a,b] = 0\n",
    "    #count += 1\n",
    "#print(count)\n"
   ]
  },
  {
   "cell_type": "code",
   "execution_count": null,
   "metadata": {},
   "outputs": [],
   "source": [
    "#np.set_printoptions(threshold=sys.maxsize)\n",
    "#print(mat)"
   ]
  },
  {
   "cell_type": "code",
   "execution_count": null,
   "metadata": {},
   "outputs": [],
   "source": [
    "img = Image.fromarray(mat)\n",
    "#print(img)\n",
    "#img.save(\"C:\\\\Users\\\\Dell\\\\Desktop\\\\img\",\"png\")\n",
    "img.save('test1.png')\n",
    "img.show()\n",
    "\n",
    "\n",
    "#plt.imshow(mat)\n",
    "#plt.savefig('a')\n",
    "\n",
    "'''\n",
    "\n",
    "from scipy.misc import imsave\n",
    "# x is the array you want to save \n",
    "imsave(\"image.png\", mat)\n",
    "'''"
   ]
  },
  {
   "cell_type": "code",
   "execution_count": null,
   "metadata": {},
   "outputs": [],
   "source": [
    "# Taking a matrix of size 5 as the kernel \n",
    "kernel = np.ones((15,15), np.uint8) \n",
    "  \n",
    "# The first parameter is the original image, \n",
    "# kernel is the matrix with which image is  \n",
    "# convolved and third parameter is the number  \n",
    "# of iterations, which will determine how much  \n",
    "# you want to erode/dilate a given image.\n",
    "img = cv2.imread('test1.png')\n",
    "img_erosion = cv2.erode(img, kernel, iterations=3) \n",
    "#img_dilation = cv2.dilate(img, kernel, iterations=1) \n",
    "  \n",
    "#cv2.imshow('Input', img) \n",
    "cv2.imshow('Erosion', img_erosion) \n",
    "#cv2.imshow('Dilation', img_dilation)\n",
    "cv2.waitKey(0)  \n",
    "cv2.destroyAllWindows()  "
   ]
  },
  {
   "cell_type": "code",
   "execution_count": null,
   "metadata": {},
   "outputs": [],
   "source": []
  },
  {
   "cell_type": "code",
   "execution_count": null,
   "metadata": {},
   "outputs": [],
   "source": [
    "kernel = np.ones((5,5), np.uint8) \n",
    "img_dilation = cv2.dilate(img_erosion, kernel, iterations = 1)\n",
    "cv2.imshow('Dilation', img_dilation)\n",
    "cv2.waitKey(0)  \n",
    "cv2.destroyAllWindows()  "
   ]
  },
  {
   "cell_type": "code",
   "execution_count": null,
   "metadata": {},
   "outputs": [],
   "source": [
    "'''\n",
    "isClosed = True\n",
    "  \n",
    "# Blue color in BGR \n",
    "color = (0, 0, 0) \n",
    "  \n",
    "# Line thickness of 2 px \n",
    "thickness = 2\n",
    "  \n",
    "# Using cv2.polylines() method \n",
    "# Draw a Blue polygon with  \n",
    "# thickness of 1 px \n",
    "img = cv2.polylines(img, np.int32([arr]),  isClosed, color, thickness) \n",
    "'''"
   ]
  },
  {
   "cell_type": "code",
   "execution_count": null,
   "metadata": {},
   "outputs": [],
   "source": []
  },
  {
   "cell_type": "code",
   "execution_count": null,
   "metadata": {},
   "outputs": [],
   "source": [
    "'''\n",
    "img = img_erosion\n",
    "#img = cv2.imread('test1.jpg')\n",
    "#cv2.imshow('img', img)\n",
    "#cv2.waitKey(0) \n",
    "gray = cv2.cvtColor(img, cv2.COLOR_BGR2GRAY)\n",
    "#gray = img\n",
    "ret, threshold = cv2.threshold(gray,150,255,cv2.THRESH_BINARY)\n",
    "cv2.bitwise_not(threshold, threshold)\n",
    "contours, hierarchy = cv2.findContours(threshold,cv2.RETR_TREE,cv2.CHAIN_APPROX_NONE)\n",
    "listx = []\n",
    "listy=[]\n",
    "\n",
    "for i in range(0, len(contours)):\n",
    "    c = contours[i]\n",
    "    size = cv2.contourArea(c)\n",
    "    if size < 1000:\n",
    "        M = cv2.moments(c)\n",
    "        cX = int(M[\"m10\"] / M[\"m00\"])\n",
    "        cY = int(M[\"m01\"] / M[\"m00\"])\n",
    "        listx.append(cX)\n",
    "        listy.append(cY)\n",
    "\n",
    "listxy = list(zip(listx,listy))\n",
    "listxy = np.array(listxy)\n",
    "\n",
    "for i in range(0, len(listxy)):    \n",
    "    x1 = listxy[i,0]\n",
    "    y1 = listxy[i,1]\n",
    "    distance = 0\n",
    "    secondx = []\n",
    "    secondy = []\n",
    "    dist_listappend = []\n",
    "    sort = []   \n",
    "    for j in range(0, len(listxy)):      \n",
    "        if i == j:\n",
    "            pass     \n",
    "        else:\n",
    "            x2 = listxy[j,0]\n",
    "            y2 = listxy[j,1]\n",
    "            distance = np.sqrt((x1-x2)**2 + (y1-y2)**2)\n",
    "            secondx.append(x2)\n",
    "            secondy.append(y2)\n",
    "            dist_listappend.append(distance)               \n",
    "    secondxy = list(zip(dist_listappend,secondx,secondy))\n",
    "    sort = sorted(secondxy, key=lambda second: second[0])\n",
    "    sort = np.array(sort)\n",
    "    cv2.line(img, (x1,y1), (int(sort[0,1]), int(sort[0,2])), (0,0,255), 2)\n",
    "\n",
    "cv2.imshow('img', img)\n",
    "cv2.waitKey(0)  \n",
    "cv2.destroyAllWindows()  \n",
    "#cv2.imwrite('connected.png', img)\n",
    "'''"
   ]
  },
  {
   "cell_type": "code",
   "execution_count": 5,
   "metadata": {},
   "outputs": [
    {
     "name": "stdout",
     "output_type": "stream",
     "text": [
      "[[ True  True  True ...  True  True  True]\n",
      " [ True  True  True ...  True  True  True]\n",
      " [ True  True  True ...  True  True  True]\n",
      " ...\n",
      " [ True  True  True ...  True  True  True]\n",
      " [ True  True  True ...  True  True  True]\n",
      " [ True  True  True ...  True  True  True]]\n"
     ]
    },
    {
     "ename": "TypeError",
     "evalue": "Expected Ptr<cv::UMat> for argument 'mat'",
     "output_type": "error",
     "traceback": [
      "\u001b[1;31m---------------------------------------------------------------------------\u001b[0m",
      "\u001b[1;31mTypeError\u001b[0m                                 Traceback (most recent call last)",
      "\u001b[1;32m<ipython-input-5-482faa9a2f30>\u001b[0m in \u001b[0;36m<module>\u001b[1;34m\u001b[0m\n\u001b[0;32m      3\u001b[0m \u001b[0ma\u001b[0m \u001b[1;33m=\u001b[0m \u001b[0mtiff\u001b[0m\u001b[1;33m.\u001b[0m\u001b[0mimread\u001b[0m\u001b[1;33m(\u001b[0m\u001b[1;34m'001t01.tiff'\u001b[0m\u001b[1;33m)\u001b[0m\u001b[1;33m\u001b[0m\u001b[1;33m\u001b[0m\u001b[0m\n\u001b[0;32m      4\u001b[0m \u001b[0mprint\u001b[0m\u001b[1;33m(\u001b[0m\u001b[0ma\u001b[0m\u001b[1;33m)\u001b[0m\u001b[1;33m\u001b[0m\u001b[1;33m\u001b[0m\u001b[0m\n\u001b[1;32m----> 5\u001b[1;33m \u001b[0mcv2\u001b[0m\u001b[1;33m.\u001b[0m\u001b[0mimshow\u001b[0m\u001b[1;33m(\u001b[0m\u001b[1;34m'aa'\u001b[0m\u001b[1;33m,\u001b[0m\u001b[0ma\u001b[0m\u001b[1;33m)\u001b[0m\u001b[1;33m\u001b[0m\u001b[1;33m\u001b[0m\u001b[0m\n\u001b[0m\u001b[0;32m      6\u001b[0m \u001b[0mcv2\u001b[0m\u001b[1;33m.\u001b[0m\u001b[0mwaitKey\u001b[0m\u001b[1;33m(\u001b[0m\u001b[1;36m0\u001b[0m\u001b[1;33m)\u001b[0m\u001b[1;33m\u001b[0m\u001b[1;33m\u001b[0m\u001b[0m\n\u001b[0;32m      7\u001b[0m \u001b[0mcv2\u001b[0m\u001b[1;33m.\u001b[0m\u001b[0mdestroyAllWindows\u001b[0m\u001b[1;33m(\u001b[0m\u001b[1;33m)\u001b[0m\u001b[1;33m\u001b[0m\u001b[1;33m\u001b[0m\u001b[0m\n",
      "\u001b[1;31mTypeError\u001b[0m: Expected Ptr<cv::UMat> for argument 'mat'"
     ]
    }
   ],
   "source": [
    "import tifffile as tiff\n",
    "import cv2\n",
    "a = tiff.imread('001t01.tiff')\n",
    "print(a)\n",
    "cv2.imshow('aa',a)\n",
    "cv2.waitKey(0)  \n",
    "cv2.destroyAllWindows()  \n"
   ]
  },
  {
   "cell_type": "code",
   "execution_count": 12,
   "metadata": {},
   "outputs": [
    {
     "ename": "ModuleNotFoundError",
     "evalue": "No module named 'libtiff'",
     "output_type": "error",
     "traceback": [
      "\u001b[1;31m---------------------------------------------------------------------------\u001b[0m",
      "\u001b[1;31mModuleNotFoundError\u001b[0m                       Traceback (most recent call last)",
      "\u001b[1;32m<ipython-input-12-ba5cd4b37b62>\u001b[0m in \u001b[0;36m<module>\u001b[1;34m\u001b[0m\n\u001b[1;32m----> 1\u001b[1;33m \u001b[1;32mimport\u001b[0m \u001b[0mlibtiff\u001b[0m\u001b[1;33m\u001b[0m\u001b[1;33m\u001b[0m\u001b[0m\n\u001b[0m\u001b[0;32m      2\u001b[0m \u001b[1;33m\u001b[0m\u001b[0m\n\u001b[0;32m      3\u001b[0m \u001b[0mim\u001b[0m \u001b[1;33m=\u001b[0m \u001b[0mImage\u001b[0m\u001b[1;33m.\u001b[0m\u001b[0mopen\u001b[0m\u001b[1;33m(\u001b[0m\u001b[1;34m'001t01.tiff'\u001b[0m\u001b[1;33m)\u001b[0m\u001b[1;33m\u001b[0m\u001b[1;33m\u001b[0m\u001b[0m\n\u001b[0;32m      4\u001b[0m \u001b[0mtif\u001b[0m \u001b[1;33m=\u001b[0m \u001b[0mlibtiff\u001b[0m\u001b[1;33m.\u001b[0m\u001b[0mTIFF\u001b[0m\u001b[1;33m.\u001b[0m\u001b[0mopen\u001b[0m\u001b[1;33m(\u001b[0m\u001b[1;34m'001t01.tiff'\u001b[0m\u001b[1;33m)\u001b[0m\u001b[1;33m\u001b[0m\u001b[1;33m\u001b[0m\u001b[0m\n\u001b[0;32m      5\u001b[0m \u001b[0mim\u001b[0m \u001b[1;33m=\u001b[0m \u001b[0mtif\u001b[0m\u001b[1;33m.\u001b[0m\u001b[0mread_image\u001b[0m\u001b[1;33m(\u001b[0m\u001b[1;33m)\u001b[0m\u001b[1;33m\u001b[0m\u001b[1;33m\u001b[0m\u001b[0m\n",
      "\u001b[1;31mModuleNotFoundError\u001b[0m: No module named 'libtiff'"
     ]
    }
   ],
   "source": [
    "import libtiff\n",
    "\n",
    "im = Image.open('001t01.tiff')\n",
    "tif = libtiff.TIFF.open('001t01.tiff')\n",
    "im = tif.read_image()\n",
    "# im only contains one of the three channels. im.dtype is uint16 as desired.\n",
    "im = []\n",
    "im = np.array(cv2.imread('001t01.tiff'))"
   ]
  },
  {
   "cell_type": "code",
   "execution_count": 24,
   "metadata": {},
   "outputs": [
    {
     "ename": "NameError",
     "evalue": "name 'imwrite' is not defined",
     "output_type": "error",
     "traceback": [
      "\u001b[1;31m---------------------------------------------------------------------------\u001b[0m",
      "\u001b[1;31mNameError\u001b[0m                                 Traceback (most recent call last)",
      "\u001b[1;32m<ipython-input-24-e5d8d9a54cbc>\u001b[0m in \u001b[0;36m<module>\u001b[1;34m\u001b[0m\n\u001b[0;32m      1\u001b[0m \u001b[1;32mfrom\u001b[0m \u001b[0mskimage\u001b[0m\u001b[1;33m.\u001b[0m\u001b[0mio\u001b[0m \u001b[1;32mimport\u001b[0m \u001b[0mimread\u001b[0m\u001b[1;33m\u001b[0m\u001b[1;33m\u001b[0m\u001b[0m\n\u001b[0;32m      2\u001b[0m \u001b[0mimg\u001b[0m \u001b[1;33m=\u001b[0m \u001b[0mimread\u001b[0m\u001b[1;33m(\u001b[0m\u001b[1;34m\"001t01.tiff\"\u001b[0m\u001b[1;33m,\u001b[0m\u001b[1;36m1\u001b[0m\u001b[1;33m)\u001b[0m\u001b[1;33m\u001b[0m\u001b[1;33m\u001b[0m\u001b[0m\n\u001b[1;32m----> 3\u001b[1;33m \u001b[0mimwrite\u001b[0m\u001b[1;33m(\u001b[0m\u001b[1;34m\"001t01.png\"\u001b[0m\u001b[1;33m,\u001b[0m \u001b[0mimg\u001b[0m\u001b[1;33m)\u001b[0m\u001b[1;33m\u001b[0m\u001b[1;33m\u001b[0m\u001b[0m\n\u001b[0m",
      "\u001b[1;31mNameError\u001b[0m: name 'imwrite' is not defined"
     ]
    }
   ],
   "source": [
    "from skimage.io import imread\n",
    "img = imread(\"001t01.tiff\",1)\n",
    "imwrite(\"001t01.png\", img)"
   ]
  },
  {
   "cell_type": "code",
   "execution_count": 31,
   "metadata": {},
   "outputs": [],
   "source": []
  },
  {
   "cell_type": "code",
   "execution_count": 30,
   "metadata": {},
   "outputs": [
    {
     "name": "stdout",
     "output_type": "stream",
     "text": [
      "<PIL.TiffImagePlugin.TiffImageFile image mode=1 size=193x202 at 0x2713F1D8E08>\n"
     ]
    }
   ],
   "source": []
  },
  {
   "cell_type": "code",
   "execution_count": null,
   "metadata": {},
   "outputs": [],
   "source": []
  }
 ],
 "metadata": {
  "kernelspec": {
   "display_name": "Python 3",
   "language": "python",
   "name": "python3"
  },
  "language_info": {
   "codemirror_mode": {
    "name": "ipython",
    "version": 3
   },
   "file_extension": ".py",
   "mimetype": "text/x-python",
   "name": "python",
   "nbconvert_exporter": "python",
   "pygments_lexer": "ipython3",
   "version": "3.7.7"
  }
 },
 "nbformat": 4,
 "nbformat_minor": 4
}
