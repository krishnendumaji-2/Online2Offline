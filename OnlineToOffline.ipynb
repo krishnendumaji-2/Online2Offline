{
 "cells": [
  {
   "cell_type": "code",
   "execution_count": 42,
   "metadata": {},
   "outputs": [],
   "source": [
    "import cv2\n",
    "import numpy as np\n",
    "import os\n",
    "import glob\n",
    "from PIL import Image\n",
    "#import matplotlib.pyplot as plt\n",
    "import IPython\n",
    "from IPython.display import display"
   ]
  },
  {
   "cell_type": "code",
   "execution_count": 43,
   "metadata": {},
   "outputs": [],
   "source": [
    "def show(img):\n",
    "    \n",
    "    _,ret = cv2.imencode('.png', img)\n",
    "    #print(ret)\n",
    "    i = IPython.display.Image(data=ret)\n",
    "    display(i)\n",
    "    \n",
    "\n",
    "def morph(img,filename):\n",
    "    \n",
    "    # EROSION---------------------------\n",
    "    kernel = np.ones((10,10), np.uint8) \n",
    "    img_erod = cv2.erode(img, kernel, iterations=4) \n",
    "    #img_erosion = cv2.dilate(img_erosion, kernel, iterations=1)\n",
    "    #----------------------------------------------\n",
    "    \n",
    "    # GAUSSIAN BLURR-------------------------------\n",
    "    img_erod_gaus = cv2.GaussianBlur(img_erod,(5,5),0)\n",
    "    #img_erosion_g = cv2.fastNlMeansDenoisingColored(img_erosion_g,None,10,10,7,21)\n",
    "    #img_erosion_g = cv2.filter2D(img_erosion,-1,kernel_g)\n",
    "    #----------------------------------------------\n",
    "    \n",
    "    #OFFLINE IMAGE FROM DATABASE------------------\n",
    "    print('OFFLINE IMAGE FROM DATABASE')\n",
    "    Ground_Truth = Image.open(str(filename) + '.tiff')\n",
    "    display(Ground_Truth)\n",
    "    width, height = Ground_Truth.size\n",
    "    #----------------------------------------------\n",
    "    #OFFLINE IMAGE GENERATED\n",
    "    print('OFFLINE IMAGE GENERATED')\n",
    "    img_erod_gaus = cv2.resize(img_erod_gaus, dsize = (width, height), interpolation=cv2.INTER_CUBIC)\n",
    "    show(img_erod_gaus)\n",
    "    #----------------------------------------------\n",
    "    \n",
    "    \n",
    "    #cv2.namedWindow('Output', cv2.WINDOW_NORMAL) \n",
    "    #cv2.imshow('Output', img_erosion_gaussian)\n",
    "    #cv2.waitKey(0)  \n",
    "    #cv2.destroyAllWindows() "
   ]
  },
  {
   "cell_type": "code",
   "execution_count": 44,
   "metadata": {},
   "outputs": [],
   "source": [
    "def extract(files):\n",
    "    X = []\n",
    "    Y = []\n",
    "\n",
    "    filename = files.split('.')[0]\n",
    "    with open(files, \"r\") as f:\n",
    "        \n",
    "        lines = f.readlines()\n",
    "        #lines = lines.strip('\\n')\n",
    "        \n",
    "        for l in lines:\n",
    "            \n",
    "            if l[0] != '.' and l[0] != '-' and l != '\\n':\n",
    "                \n",
    "                #------UNCOMMENT FOR TAMIL SCRIPT-------------\n",
    "                y_coord = int(l.split(' ')[0])\n",
    "                x_coord = int(l.split(' ')[1])\n",
    "                #------------------------------------\n",
    "                \n",
    "                #------UNCOMMENT FOR DEVANAGRI SCRIPT---------\n",
    "                #x_coord = l.split(',')[1]\n",
    "                #x_coord = int(X.split('.')[0])\n",
    "                #y_coord = l.split(',')[0]\n",
    "                #y_coord = int(Y.split('.')[0])\n",
    "                #------------------------------------\n",
    "                \n",
    "                X.append(x_coord)\n",
    "                Y.append(y_coord)\n",
    "    \n",
    "    height_x = max(X) - min(X)    # HEIGHT OF X\n",
    "    height_y = max(Y) - min(Y)    # HEIGHT OF Y\n",
    "    MIN_X = min(X)\n",
    "    MIN_Y = min(Y)\n",
    "    \n",
    "    # SUBTRACTING MIN OF X AND Y CO-ORDINATES\n",
    "    for i in range(len(X)):\n",
    "        X[i] = X[i] - MIN_X\n",
    "        Y[i] = Y[i] - MIN_Y\n",
    "        \n",
    "    #print(max(x),max(y),min(x),min(y))\n",
    "    \n",
    "    # MATRIX FOR STORING IMAGE - INITIALLY EMPTY\n",
    "    IMAGE = np.full((height_x + 100,height_y + 100),255, np.uint8)\n",
    "    \n",
    "    for i in range(len(X)):\n",
    "        IMAGE[X[i]+50 , Y[i]+50] = 0   # INCLUDING THE CO-ORDINATE\n",
    "        \n",
    "        #-----TRIED DIDN'T WORK!-----------------\n",
    "        #slopey = Y[i+1] - Y[i]\n",
    "        #slopex = X[i+1] - X[i]\n",
    "        #alpha = 0.2\n",
    "        #while X[i]+ (slopex*alpha) < X[i+1] and Y[i]+ (slopey*alpha) < Y[i+1]:\n",
    "            #IMAGE[X[i]+ int(slopex*alpha) + 50, Y[i]+ int(slopey*alpha) + 50] = 0\n",
    "        #----------------------------------------    \n",
    "        \n",
    "        # INCLUDING MID-POINT IN BETWEEN TWO CO-ORDINATES    \n",
    "        if (i + 1) < len(X):\n",
    "            a1 = int((X[i] + X[i+1])/2) + 50\n",
    "            b1 = int((Y[i] + Y[i+1])/2) + 50\n",
    "        IMAGE[a1,b1] = 0\n",
    "    \n",
    "    morph(IMAGE,filename)"
   ]
  },
  {
   "cell_type": "code",
   "execution_count": 45,
   "metadata": {},
   "outputs": [
    {
     "name": "stdout",
     "output_type": "stream",
     "text": [
      "OFFLINE IMAGE FROM DATABASE\n"
     ]
    },
    {
     "data": {
      "image/png": "[encoded data removed]",
      "text/plain": [
       "<PIL.TiffImagePlugin.TiffImageFile image mode=1 size=129x105 at 0x27F13F14948>"
      ]
     },
     "metadata": {},
     "output_type": "display_data"
    },
    {
     "name": "stdout",
     "output_type": "stream",
     "text": [
      "OFFLINE IMAGE GENERATED\n"
     ]
    },
    {
     "data": {
      "image/png": "[encoded data removed]",
      "text/plain": [
       "<IPython.core.display.Image object>"
      ]
     },
     "metadata": {},
     "output_type": "display_data"
    },
    {
     "name": "stdout",
     "output_type": "stream",
     "text": [
      "OFFLINE IMAGE FROM DATABASE\n"
     ]
    },
    {
     "data": {
      "image/png": "[encoded data removed]",
      "text/plain": [
       "<PIL.TiffImagePlugin.TiffImageFile image mode=1 size=134x98 at 0x27F13EF2808>"
      ]
     },
     "metadata": {},
     "output_type": "display_data"
    },
    {
     "name": "stdout",
     "output_type": "stream",
     "text": [
      "OFFLINE IMAGE GENERATED\n"
     ]
    },
    {
     "data": {
      "image/png": "[encoded data removed]",
      "text/plain": [
       "<IPython.core.display.Image object>"
      ]
     },
     "metadata": {},
     "output_type": "display_data"
    },
    {
     "name": "stdout",
     "output_type": "stream",
     "text": [
      "OFFLINE IMAGE FROM DATABASE\n"
     ]
    },
    {
     "data": {
      "image/png": "[encoded data removed]",
      "text/plain": [
       "<PIL.TiffImagePlugin.TiffImageFile image mode=1 size=132x86 at 0x27F13F19588>"
      ]
     },
     "metadata": {},
     "output_type": "display_data"
    },
    {
     "name": "stdout",
     "output_type": "stream",
     "text": [
      "OFFLINE IMAGE GENERATED\n"
     ]
    },
    {
     "data": {
      "image/png": "[encoded data removed]",
      "text/plain": [
       "<IPython.core.display.Image object>"
      ]
     },
     "metadata": {},
     "output_type": "display_data"
    },
    {
     "name": "stdout",
     "output_type": "stream",
     "text": [
      "OFFLINE IMAGE FROM DATABASE\n"
     ]
    },
    {
     "data": {
      "image/png": "[encoded data removed]",
      "text/plain": [
       "<PIL.TiffImagePlugin.TiffImageFile image mode=1 size=207x109 at 0x27F13F1A808>"
      ]
     },
     "metadata": {},
     "output_type": "display_data"
    },
    {
     "name": "stdout",
     "output_type": "stream",
     "text": [
      "OFFLINE IMAGE GENERATED\n"
     ]
    },
    {
     "data": {
      "image/png": "[encoded data removed]",
      "text/plain": [
       "<IPython.core.display.Image object>"
      ]
     },
     "metadata": {},
     "output_type": "display_data"
    },
    {
     "name": "stdout",
     "output_type": "stream",
     "text": [
      "OFFLINE IMAGE FROM DATABASE\n"
     ]
    },
    {
     "data": {
      "image/png": "[encoded data removed]",
      "text/plain": [
       "<PIL.TiffImagePlugin.TiffImageFile image mode=1 size=220x113 at 0x27F13F0C448>"
      ]
     },
     "metadata": {},
     "output_type": "display_data"
    },
    {
     "name": "stdout",
     "output_type": "stream",
     "text": [
      "OFFLINE IMAGE GENERATED\n"
     ]
    },
    {
     "data": {
      "image/png": "[encoded data removed]",
      "text/plain": [
       "<IPython.core.display.Image object>"
      ]
     },
     "metadata": {},
     "output_type": "display_data"
    },
    {
     "name": "stdout",
     "output_type": "stream",
     "text": [
      "OFFLINE IMAGE FROM DATABASE\n"
     ]
    },
    {
     "data": {
      "image/png": "[encoded data removed]",
      "text/plain": [
       "<PIL.TiffImagePlugin.TiffImageFile image mode=1 size=103x50 at 0x27F13EE7448>"
      ]
     },
     "metadata": {},
     "output_type": "display_data"
    },
    {
     "name": "stdout",
     "output_type": "stream",
     "text": [
      "OFFLINE IMAGE GENERATED\n"
     ]
    },
    {
     "data": {
      "image/png": "[encoded data removed]",
      "text/plain": [
       "<IPython.core.display.Image object>"
      ]
     },
     "metadata": {},
     "output_type": "display_data"
    },
    {
     "name": "stdout",
     "output_type": "stream",
     "text": [
      "OFFLINE IMAGE FROM DATABASE\n"
     ]
    },
    {
     "data": {
      "image/png": "[encoded data removed]",
      "text/plain": [
       "<PIL.TiffImagePlugin.TiffImageFile image mode=1 size=101x105 at 0x27F13EF0DC8>"
      ]
     },
     "metadata": {},
     "output_type": "display_data"
    },
    {
     "name": "stdout",
     "output_type": "stream",
     "text": [
      "OFFLINE IMAGE GENERATED\n"
     ]
    },
    {
     "data": {
      "image/png": "[encoded data removed]",
      "text/plain": [
       "<IPython.core.display.Image object>"
      ]
     },
     "metadata": {},
     "output_type": "display_data"
    },
    {
     "name": "stdout",
     "output_type": "stream",
     "text": [
      "OFFLINE IMAGE FROM DATABASE\n"
     ]
    },
    {
     "data": {
      "image/png": "[encoded data removed]",
      "text/plain": [
       "<PIL.TiffImagePlugin.TiffImageFile image mode=1 size=97x111 at 0x27F13F0C408>"
      ]
     },
     "metadata": {},
     "output_type": "display_data"
    },
    {
     "name": "stdout",
     "output_type": "stream",
     "text": [
      "OFFLINE IMAGE GENERATED\n"
     ]
    },
    {
     "data": {
      "image/png": "[encoded data removed]",
      "text/plain": [
       "<IPython.core.display.Image object>"
      ]
     },
     "metadata": {},
     "output_type": "display_data"
    },
    {
     "name": "stdout",
     "output_type": "stream",
     "text": [
      "OFFLINE IMAGE FROM DATABASE\n"
     ]
    },
    {
     "data": {
      "image/png": "[encoded data removed]",
      "text/plain": [
       "<PIL.TiffImagePlugin.TiffImageFile image mode=1 size=106x122 at 0x27F13F13608>"
      ]
     },
     "metadata": {},
     "output_type": "display_data"
    },
    {
     "name": "stdout",
     "output_type": "stream",
     "text": [
      "OFFLINE IMAGE GENERATED\n"
     ]
    },
    {
     "data": {
      "image/png": "[encoded data removed]",
      "text/plain": [
       "<IPython.core.display.Image object>"
      ]
     },
     "metadata": {},
     "output_type": "display_data"
    },
    {
     "name": "stdout",
     "output_type": "stream",
     "text": [
      "OFFLINE IMAGE FROM DATABASE\n"
     ]
    },
    {
     "data": {
      "image/png": "[encoded data removed]",
      "text/plain": [
       "<PIL.TiffImagePlugin.TiffImageFile image mode=1 size=111x132 at 0x27F13F0C508>"
      ]
     },
     "metadata": {},
     "output_type": "display_data"
    },
    {
     "name": "stdout",
     "output_type": "stream",
     "text": [
      "OFFLINE IMAGE GENERATED\n"
     ]
    },
    {
     "data": {
      "image/png": "[encoded data removed]",
      "text/plain": [
       "<IPython.core.display.Image object>"
      ]
     },
     "metadata": {},
     "output_type": "display_data"
    }
   ],
   "source": [
    "def main():\n",
    "    \n",
    "    #for files in glob.glob(\"Hindi/*\"):\n",
    "    for files in glob.glob(\"Tamil/*txt\"):\n",
    "        extract(files)\n",
    "\n",
    "if __name__ == \"__main__\": \n",
    "    main()"
   ]
  },
  {
   "cell_type": "code",
   "execution_count": null,
   "metadata": {},
   "outputs": [],
   "source": []
  },
  {
   "cell_type": "code",
   "execution_count": null,
   "metadata": {},
   "outputs": [],
   "source": []
  }
 ],
 "metadata": {
  "kernelspec": {
   "display_name": "Python 3",
   "language": "python",
   "name": "python3"
  },
  "language_info": {
   "codemirror_mode": {
    "name": "ipython",
    "version": 3
   },
   "file_extension": ".py",
   "mimetype": "text/x-python",
   "name": "python",
   "nbconvert_exporter": "python",
   "pygments_lexer": "ipython3",
   "version": "3.7.7"
  }
 },
 "nbformat": 4,
 "nbformat_minor": 4
}
